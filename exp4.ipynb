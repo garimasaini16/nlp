{
 "cells": [
  {
   "cell_type": "code",
   "execution_count": 1,
   "id": "d815eefc",
   "metadata": {},
   "outputs": [
    {
     "name": "stdout",
     "output_type": "stream",
     "text": [
      "Enter the string: Natural-Lnaguage is an arear of computre science and artificial intelligence.\n",
      "Enter the value of n: 3\n",
      "('Natural-Lnaguage', 'is', 'an')\n",
      "('is', 'an', 'arear')\n",
      "('an', 'arear', 'of')\n",
      "('arear', 'of', 'computre')\n",
      "('of', 'computre', 'science')\n",
      "('computre', 'science', 'and')\n",
      "('science', 'and', 'artificial')\n",
      "('and', 'artificial', 'intelligence.')\n"
     ]
    }
   ],
   "source": [
    "#using nltk\n",
    "from nltk import ngrams\n",
    "sentence=input(\"Enter the string: \")\n",
    "n=int(input(\"Enter the value of n: \"))\n",
    "n_grams=ngrams(sentence.split(),n)\n",
    "for grams in n_grams:\n",
    "    print(grams)\n"
   ]
  },
  {
   "cell_type": "code",
   "execution_count": 2,
   "id": "002b426f",
   "metadata": {},
   "outputs": [],
   "source": [
    "s= \"\"\"\n",
    "Natural-Language processing(NLP) is an area of computer science and artificial intelligence\n",
    "\"\"\""
   ]
  },
  {
   "cell_type": "code",
   "execution_count": 15,
   "id": "23a19a68",
   "metadata": {},
   "outputs": [],
   "source": [
    "import re\n",
    "def generated_ngrams(s,n):\n",
    "    s=s.lower()\n",
    "    s=re.sub(r'[^a-zA-Z0-9\\s]',' ',s)\n",
    "    tokens=[token for token in s.split(\" \")if token !=\"\"]\n",
    "    ngrams=zip(*(tokens[i:]for i in range(n)))\n",
    "    return [\" \".join(ngram)for ngram in ngrams]"
   ]
  },
  {
   "cell_type": "code",
   "execution_count": 16,
   "id": "8867a672",
   "metadata": {},
   "outputs": [
    {
     "data": {
      "text/plain": [
       "['\\nnatural language processing nlp is',\n",
       " 'language processing nlp is an',\n",
       " 'processing nlp is an area',\n",
       " 'nlp is an area of',\n",
       " 'is an area of computer',\n",
       " 'an area of computer science',\n",
       " 'area of computer science and',\n",
       " 'of computer science and artificial',\n",
       " 'computer science and artificial intelligence\\n']"
      ]
     },
     "execution_count": 16,
     "metadata": {},
     "output_type": "execute_result"
    }
   ],
   "source": [
    "generated_ngrams(s,n=5)"
   ]
  },
  {
   "cell_type": "code",
   "execution_count": null,
   "id": "a334dd3e",
   "metadata": {},
   "outputs": [],
   "source": []
  }
 ],
 "metadata": {
  "kernelspec": {
   "display_name": "Python 3",
   "language": "python",
   "name": "python3"
  },
  "language_info": {
   "codemirror_mode": {
    "name": "ipython",
    "version": 3
   },
   "file_extension": ".py",
   "mimetype": "text/x-python",
   "name": "python",
   "nbconvert_exporter": "python",
   "pygments_lexer": "ipython3",
   "version": "3.8.8"
  }
 },
 "nbformat": 4,
 "nbformat_minor": 5
}
