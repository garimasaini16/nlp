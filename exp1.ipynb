{
 "cells": [
  {
   "cell_type": "code",
   "execution_count": 10,
   "id": "351dca92",
   "metadata": {},
   "outputs": [],
   "source": [
    "import nltk"
   ]
  },
  {
   "cell_type": "code",
   "execution_count": 11,
   "id": "ae25f937",
   "metadata": {},
   "outputs": [
    {
     "name": "stdout",
     "output_type": "stream",
     "text": [
      "['My', 'name', 'is', 'Kunal', 'Chawla', '.', 'I', 'have', 'great', 'communication', 'skills', '.', 'I', 'study', 'in', 'Chnadigarh', 'University']\n",
      "['My  name is Kunal Chawla.', 'I have great communication skills.', 'I study in Chnadigarh University']\n"
     ]
    }
   ],
   "source": [
    "#tokenization using NLTK\n",
    "from nltk import word_tokenize, sent_tokenize\n",
    "sent=\"My  name is Kunal Chawla. I have great communication skills. I study in Chnadigarh University\"\n",
    "print(word_tokenize(sent))\n",
    "print(sent_tokenize(sent))"
   ]
  },
  {
   "cell_type": "code",
   "execution_count": 12,
   "id": "f5c718d4",
   "metadata": {},
   "outputs": [
    {
     "name": "stdout",
     "output_type": "stream",
     "text": [
      "my\n",
      "name\n",
      "is\n",
      "kunal\n",
      "chawla\n",
      ".\n",
      "i\n",
      "have\n",
      "great\n",
      "commun\n",
      "skill\n",
      ".\n",
      "i\n",
      "studi\n",
      "in\n",
      "chnadigarh\n",
      "univers\n"
     ]
    }
   ],
   "source": [
    "#porter stemming\n",
    "from nltk.stem import PorterStemmer\n",
    "porter=PorterStemmer()\n",
    "word=['My', 'name', 'is', 'Kunal', 'Chawla', '.', 'I', 'have', 'great', 'communication', 'skills', '.', 'I', 'study', 'in', 'Chnadigarh', 'University']\n",
    "stem_words=[]\n",
    "for w in word:\n",
    "    x=porter.stem(w)\n",
    "    stem_words.append(x)\n",
    "for e in stem_words:\n",
    "    print(e)"
   ]
  },
  {
   "cell_type": "code",
   "execution_count": 13,
   "id": "d4126d36",
   "metadata": {},
   "outputs": [
    {
     "name": "stdout",
     "output_type": "stream",
     "text": [
      "my\n",
      "name\n",
      "is\n",
      "kunal\n",
      "chawla\n",
      ".\n",
      "i\n",
      "have\n",
      "great\n",
      "communic\n",
      "skill\n",
      ".\n",
      "i\n",
      "studi\n",
      "in\n",
      "chnadigarh\n",
      "univers\n"
     ]
    }
   ],
   "source": [
    "#snowball stemming\n",
    "from nltk.stem.snowball import SnowballStemmer\n",
    "snow_stemmer=SnowballStemmer(language='english')\n",
    "word=['My', 'name', 'is', 'Kunal', 'Chawla', '.', 'I', 'have', 'great', 'communication', 'skills', '.', 'I', 'study', 'in', 'Chnadigarh', 'University']\n",
    "stem_words=[]\n",
    "for w in word:\n",
    "    x=snow_stemmer.stem(w)\n",
    "    stem_words.append(x)\n",
    "for e in stem_words:\n",
    "    print(e)"
   ]
  },
  {
   "cell_type": "code",
   "execution_count": 17,
   "id": "0fe5c481",
   "metadata": {},
   "outputs": [
    {
     "name": "stderr",
     "output_type": "stream",
     "text": [
      "[nltk_data] Downloading package wordnet to C:\\Users\\Kunal\n",
      "[nltk_data]     Chawla\\AppData\\Roaming\\nltk_data...\n"
     ]
    },
    {
     "data": {
      "text/plain": [
       "True"
      ]
     },
     "execution_count": 17,
     "metadata": {},
     "output_type": "execute_result"
    }
   ],
   "source": [
    "import nltk\n",
    "nltk.download(\"wordnet\")"
   ]
  },
  {
   "cell_type": "code",
   "execution_count": 18,
   "id": "c38478c7",
   "metadata": {},
   "outputs": [
    {
     "name": "stdout",
     "output_type": "stream",
     "text": [
      "My\n",
      "name\n",
      "is\n",
      "Kunal\n",
      "Chawla\n",
      ".\n",
      "I\n",
      "have\n",
      "great\n",
      "communication\n",
      "skill\n",
      ".\n",
      "I\n",
      "study\n",
      "in\n",
      "Chnadigarh\n",
      "University\n"
     ]
    }
   ],
   "source": [
    "#lemmetization\n",
    "from nltk.stem import WordNetLemmatizer\n",
    "lemmatizer=WordNetLemmatizer()\n",
    "word=['My', 'name', 'is', 'Kunal', 'Chawla', '.', 'I', 'have', 'great', 'communication', 'skills', '.', 'I', 'study', 'in', 'Chnadigarh', 'University']\n",
    "stem_words=[]\n",
    "for w in word:\n",
    "    x=lemmatizer.lemmatize(w)\n",
    "    stem_words.append(x)\n",
    "for e in stem_words:\n",
    "    print(e)"
   ]
  },
  {
   "cell_type": "code",
   "execution_count": null,
   "id": "5aeb3dd0",
   "metadata": {},
   "outputs": [],
   "source": []
  }
 ],
 "metadata": {
  "kernelspec": {
   "display_name": "Python 3",
   "language": "python",
   "name": "python3"
  },
  "language_info": {
   "codemirror_mode": {
    "name": "ipython",
    "version": 3
   },
   "file_extension": ".py",
   "mimetype": "text/x-python",
   "name": "python",
   "nbconvert_exporter": "python",
   "pygments_lexer": "ipython3",
   "version": "3.8.8"
  }
 },
 "nbformat": 4,
 "nbformat_minor": 5
}
